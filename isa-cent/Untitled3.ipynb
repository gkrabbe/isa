{
 "cells": [
  {
   "cell_type": "code",
   "execution_count": 1,
   "metadata": {},
   "outputs": [
    {
     "name": "stderr",
     "output_type": "stream",
     "text": [
      "C:\\Users\\gabriel.krabbe\\AppData\\Local\\Continuum\\anaconda3\\lib\\site-packages\\gevent\\monkey.py:783: MonkeyPatchWarning: Monkey-patching ssl after ssl has already been imported may lead to errors, including RecursionError on Python 3.6. It may also silently lead to incorrect behaviour on Python 3.7. Please monkey-patch earlier. See https://github.com/gevent/gevent/issues/1016. Modules that had direct imports (NOT patched): ['urllib3.util (C:\\\\Users\\\\gabriel.krabbe\\\\AppData\\\\Local\\\\Continuum\\\\anaconda3\\\\lib\\\\site-packages\\\\urllib3\\\\util\\\\__init__.py)', 'urllib3.contrib.pyopenssl (C:\\\\Users\\\\gabriel.krabbe\\\\AppData\\\\Local\\\\Continuum\\\\anaconda3\\\\lib\\\\site-packages\\\\urllib3\\\\contrib\\\\pyopenssl.py)']. \n",
      "  _warnings)\n"
     ]
    }
   ],
   "source": [
    "import time\n",
    "from requests import Session\n",
    "from signalr import Connection"
   ]
  },
  {
   "cell_type": "code",
   "execution_count": 2,
   "metadata": {},
   "outputs": [],
   "source": [
    "session = Session()\n",
    "connection = Connection(\"http://127.0.0.1:8088/signalr\", session)\n",
    "chat = connection.register_hub('isaHub')"
   ]
  },
  {
   "cell_type": "code",
   "execution_count": 3,
   "metadata": {},
   "outputs": [],
   "source": [
    "lamps = {\"sala1\": {\n",
    "            \"status\":False,\n",
    "            \"timer\": 0\n",
    "        },\n",
    "        \"sala2\": {\n",
    "            \"status\":False,\n",
    "            \"timer\": 0\n",
    "        },\n",
    "        \"cozinha\": {\n",
    "            \"status\":False,\n",
    "            \"timer\": 0\n",
    "        },\n",
    "        \"quarto1\": {\n",
    "            \"status\":False,\n",
    "            \"timer\": 0\n",
    "        },\n",
    "        \"quarto2\": {\n",
    "            \"status\":False,\n",
    "            \"timer\": 0\n",
    "        },\n",
    "        \"fora\": {\n",
    "            \"status\":False,\n",
    "            \"timer\": 0\n",
    "        },\n",
    "        \"corredor\": {\n",
    "            \"status\":False,\n",
    "            \"timer\": 0\n",
    "        },\n",
    "        \"banheiro\": {\n",
    "            \"status\":False,\n",
    "            \"timer\": 0\n",
    "        },\n",
    "        \"servico\": {\n",
    "            \"status\":False,\n",
    "            \"timer\": 0\n",
    "        }}"
   ]
  },
  {
   "cell_type": "code",
   "execution_count": null,
   "metadata": {},
   "outputs": [],
   "source": [
    "def statusLocalization(name, status):\n",
    "    _name = name[1:]\n",
    "    \n",
    "    for lamp in lamps:\n",
    "        if(lamp == _name):\n",
    "            lamps[lamp]={\"status\":True,\"timer\": 6}\n",
    "        else:\n",
    "            lamps[lamp][\"status\"]=False       "
   ]
  },
  {
   "cell_type": "code",
   "execution_count": null,
   "metadata": {},
   "outputs": [],
   "source": [
    "chat.client.on('statusLocalization', statusLocalization)\n",
    "connection.start()"
   ]
  },
  {
   "cell_type": "code",
   "execution_count": null,
   "metadata": {
    "scrolled": true
   },
   "outputs": [
    {
     "name": "stdout",
     "output_type": "stream",
     "text": [
      "sendLamp sala1 True\n",
      "sendLamp sala1 True\n",
      "sendLamp sala1 True\n",
      "sendLamp sala1 True\n",
      "sendLamp sala1 True\n",
      "sendLamp sala1 True\n",
      "sendLamp sala1 True\n",
      "sendLamp sala1 True\n",
      "sendLamp sala1 True\n",
      "sendLamp sala1 True\n",
      "sendLamp sala1 True\n",
      "sendLamp sala1 True\n",
      "sendLamp sala1 True\n",
      "sendLamp sala1 True\n",
      "sendLamp sala1 True\n",
      "sendLamp sala1 True\n",
      "sendLamp sala1 True\n",
      "sendLamp sala1 True\n",
      "sendLamp sala1 True\n",
      "sendLamp sala1 True\n",
      "sendLamp sala1 True\n",
      "sendLamp sala1 False\n",
      "sendLamp sala2 True\n",
      "sendLamp sala1 False\n",
      "sendLamp sala2 True\n",
      "sendLamp sala1 False\n",
      "sendLamp sala2 True\n",
      "sendLamp sala1 False\n",
      "sendLamp sala2 True\n",
      "sendLamp sala1 False\n",
      "sendLamp sala2 True\n",
      "sendLamp sala1 False\n",
      "sendLamp sala2 True\n",
      "sendLamp sala2 True\n",
      "sendLamp sala2 True\n",
      "sendLamp sala2 True\n",
      "sendLamp sala2 False\n",
      "sendLamp cozinha True\n",
      "sendLamp sala2 False\n",
      "sendLamp cozinha True\n",
      "sendLamp sala2 True\n",
      "sendLamp cozinha False\n",
      "sendLamp sala2 True\n",
      "sendLamp cozinha False\n",
      "sendLamp sala2 True\n",
      "sendLamp cozinha False\n"
     ]
    },
    {
     "name": "stderr",
     "output_type": "stream",
     "text": [
      "Traceback (most recent call last):\n",
      "  File \"C:\\Users\\gabriel.krabbe\\AppData\\Local\\Continuum\\anaconda3\\lib\\site-packages\\gevent\\_ffi\\loop.py\", line 234, in python_check_callback\n",
      "    def python_check_callback(self, watcher_ptr): # pylint:disable=unused-argument\n",
      "KeyboardInterrupt\n",
      "2019-11-13T19:09:37Z\n"
     ]
    }
   ],
   "source": [
    "with Session() as session:    \n",
    "    with connection:\n",
    "        while True:            \n",
    "            for name,value in lamps.items():\n",
    "                if(value[\"status\"]):\n",
    "                    print('sendLamp',name, True)\n",
    "                    chat.server.invoke('sendLamp',name, True)                    \n",
    "                elif(value[\"timer\"]==1):\n",
    "                    print('sendLamp',name, False)\n",
    "                    chat.server.invoke('sendLamp',name, False)\n",
    "                    lamps[name][\"timer\"]-=1\n",
    "                else:                    \n",
    "                    lamps[name][\"timer\"]-=1                    \n",
    "            connection.wait(1)"
   ]
  },
  {
   "cell_type": "code",
   "execution_count": null,
   "metadata": {},
   "outputs": [],
   "source": [
    "    "
   ]
  }
 ],
 "metadata": {
  "kernelspec": {
   "display_name": "Python 3",
   "language": "python",
   "name": "python3"
  },
  "language_info": {
   "codemirror_mode": {
    "name": "ipython",
    "version": 3
   },
   "file_extension": ".py",
   "mimetype": "text/x-python",
   "name": "python",
   "nbconvert_exporter": "python",
   "pygments_lexer": "ipython3",
   "version": "3.7.3"
  }
 },
 "nbformat": 4,
 "nbformat_minor": 4
}
